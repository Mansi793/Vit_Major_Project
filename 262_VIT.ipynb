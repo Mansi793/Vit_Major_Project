{
 "cells": [
  {
   "cell_type": "code",
   "execution_count": 2,
   "metadata": {},
   "outputs": [
    {
     "name": "stdout",
     "output_type": "stream",
     "text": [
      "Collecting vit-kerasNote: you may need to restart the kernel to use updated packages.\n",
      "\n",
      "  Downloading vit_keras-0.1.2-py3-none-any.whl.metadata (4.0 kB)\n",
      "Requirement already satisfied: scipy in c:\\users\\mansi\\appdata\\local\\programs\\python\\python311\\lib\\site-packages (from vit-keras) (1.10.0)\n",
      "Requirement already satisfied: validators in c:\\users\\mansi\\appdata\\local\\programs\\python\\python311\\lib\\site-packages (from vit-keras) (0.22.0)\n",
      "Requirement already satisfied: numpy<1.27.0,>=1.19.5 in c:\\users\\mansi\\appdata\\local\\programs\\python\\python311\\lib\\site-packages (from scipy->vit-keras) (1.24.1)\n",
      "Downloading vit_keras-0.1.2-py3-none-any.whl (24 kB)\n",
      "Installing collected packages: vit-keras\n",
      "Successfully installed vit-keras-0.1.2\n"
     ]
    }
   ],
   "source": [
    "pip install vit-keras\n"
   ]
  },
  {
   "cell_type": "code",
   "execution_count": 5,
   "metadata": {},
   "outputs": [
    {
     "name": "stdout",
     "output_type": "stream",
     "text": [
      "Collecting tensorflow-addons\n",
      "  Downloading tensorflow_addons-0.22.0-cp311-cp311-win_amd64.whl.metadata (1.8 kB)\n",
      "Collecting typeguard<3.0.0,>=2.7 (from tensorflow-addons)\n",
      "  Downloading typeguard-2.13.3-py3-none-any.whl.metadata (3.6 kB)\n",
      "Requirement already satisfied: packaging in c:\\users\\mansi\\appdata\\local\\programs\\python\\python311\\lib\\site-packages (from tensorflow-addons) (23.0)\n",
      "Downloading tensorflow_addons-0.22.0-cp311-cp311-win_amd64.whl (719 kB)\n",
      "   ---------------------------------------- 0.0/719.8 kB ? eta -:--:--\n",
      "   ----------- ---------------------------- 204.8/719.8 kB 6.3 MB/s eta 0:00:01\n",
      "   ------------------------- -------------- 450.6/719.8 kB 5.6 MB/s eta 0:00:01\n",
      "   ---------------------------------------- 719.8/719.8 kB 4.5 MB/s eta 0:00:00\n",
      "Downloading typeguard-2.13.3-py3-none-any.whl (17 kB)\n",
      "Installing collected packages: typeguard, tensorflow-addons\n",
      "Successfully installed tensorflow-addons-0.22.0 typeguard-2.13.3\n",
      "Note: you may need to restart the kernel to use updated packages.\n"
     ]
    }
   ],
   "source": [
    "pip install tensorflow-addons\n"
   ]
  },
  {
   "cell_type": "code",
   "execution_count": 7,
   "metadata": {},
   "outputs": [
    {
     "name": "stdout",
     "output_type": "stream",
     "text": [
      "Collecting opencv-python-headless\n",
      "  Downloading opencv_python_headless-4.9.0.80-cp37-abi3-win_amd64.whl.metadata (20 kB)\n",
      "Requirement already satisfied: numpy>=1.21.2 in c:\\users\\mansi\\appdata\\local\\programs\\python\\python311\\lib\\site-packages (from opencv-python-headless) (1.24.1)\n",
      "Downloading opencv_python_headless-4.9.0.80-cp37-abi3-win_amd64.whl (38.5 MB)\n",
      "   ---------------------------------------- 0.0/38.5 MB ? eta -:--:--\n",
      "    --------------------------------------- 0.8/38.5 MB 7.7 MB/s eta 0:00:05\n",
      "   - -------------------------------------- 1.8/38.5 MB 8.0 MB/s eta 0:00:05\n",
      "   --- ------------------------------------ 3.0/38.5 MB 8.1 MB/s eta 0:00:05\n",
      "   --- ------------------------------------ 3.7/38.5 MB 7.8 MB/s eta 0:00:05\n",
      "   ---- ----------------------------------- 4.5/38.5 MB 7.6 MB/s eta 0:00:05\n",
      "   ----- ---------------------------------- 5.3/38.5 MB 7.5 MB/s eta 0:00:05\n",
      "   ------ --------------------------------- 6.5/38.5 MB 7.6 MB/s eta 0:00:05\n",
      "   ------- -------------------------------- 7.4/38.5 MB 7.9 MB/s eta 0:00:04\n",
      "   -------- ------------------------------- 8.6/38.5 MB 7.9 MB/s eta 0:00:04\n",
      "   --------- ------------------------------ 9.1/38.5 MB 8.0 MB/s eta 0:00:04\n",
      "   ---------- ----------------------------- 10.2/38.5 MB 8.0 MB/s eta 0:00:04\n",
      "   ----------- ---------------------------- 11.0/38.5 MB 8.0 MB/s eta 0:00:04\n",
      "   ------------ --------------------------- 12.2/38.5 MB 8.1 MB/s eta 0:00:04\n",
      "   ------------- -------------------------- 13.3/38.5 MB 8.2 MB/s eta 0:00:04\n",
      "   -------------- ------------------------- 14.1/38.5 MB 8.3 MB/s eta 0:00:03\n",
      "   --------------- ------------------------ 15.0/38.5 MB 8.4 MB/s eta 0:00:03\n",
      "   ---------------- ----------------------- 15.8/38.5 MB 8.6 MB/s eta 0:00:03\n",
      "   ----------------- ---------------------- 16.8/38.5 MB 8.7 MB/s eta 0:00:03\n",
      "   ----------------- ---------------------- 17.3/38.5 MB 8.5 MB/s eta 0:00:03\n",
      "   ----------------- ---------------------- 17.3/38.5 MB 8.5 MB/s eta 0:00:03\n",
      "   ------------------- -------------------- 18.9/38.5 MB 8.4 MB/s eta 0:00:03\n",
      "   -------------------- ------------------- 19.3/38.5 MB 8.6 MB/s eta 0:00:03\n",
      "   -------------------- ------------------- 19.9/38.5 MB 8.3 MB/s eta 0:00:03\n",
      "   --------------------- ------------------ 20.6/38.5 MB 8.6 MB/s eta 0:00:03\n",
      "   ---------------------- ----------------- 21.5/38.5 MB 8.5 MB/s eta 0:00:03\n",
      "   ----------------------- ---------------- 22.6/38.5 MB 8.7 MB/s eta 0:00:02\n",
      "   ------------------------ --------------- 23.3/38.5 MB 8.7 MB/s eta 0:00:02\n",
      "   ------------------------- -------------- 24.3/38.5 MB 8.7 MB/s eta 0:00:02\n",
      "   --------------------------- ------------ 26.2/38.5 MB 8.8 MB/s eta 0:00:02\n",
      "   ---------------------------- ----------- 27.9/38.5 MB 9.6 MB/s eta 0:00:02\n",
      "   ------------------------------ --------- 29.7/38.5 MB 9.1 MB/s eta 0:00:01\n",
      "   ------------------------------- -------- 30.8/38.5 MB 9.0 MB/s eta 0:00:01\n",
      "   --------------------------------- ------ 31.8/38.5 MB 9.5 MB/s eta 0:00:01\n",
      "   ---------------------------------- ----- 33.2/38.5 MB 8.7 MB/s eta 0:00:01\n",
      "   ----------------------------------- ---- 34.2/38.5 MB 8.5 MB/s eta 0:00:01\n",
      "   ------------------------------------ --- 34.7/38.5 MB 8.2 MB/s eta 0:00:01\n",
      "   ------------------------------------ --- 35.0/38.5 MB 7.9 MB/s eta 0:00:01\n",
      "   ------------------------------------- -- 35.9/38.5 MB 7.4 MB/s eta 0:00:01\n",
      "   ------------------------------------- -- 36.2/38.5 MB 7.5 MB/s eta 0:00:01\n",
      "   -------------------------------------- - 36.8/38.5 MB 7.2 MB/s eta 0:00:01\n",
      "   -------------------------------------- - 37.6/38.5 MB 7.0 MB/s eta 0:00:01\n",
      "   ---------------------------------------  38.3/38.5 MB 6.9 MB/s eta 0:00:01\n",
      "   ---------------------------------------  38.5/38.5 MB 6.8 MB/s eta 0:00:01\n",
      "   ---------------------------------------  38.5/38.5 MB 6.8 MB/s eta 0:00:01\n",
      "   ---------------------------------------  38.5/38.5 MB 6.8 MB/s eta 0:00:01\n",
      "   ---------------------------------------  38.5/38.5 MB 6.8 MB/s eta 0:00:01\n",
      "   ---------------------------------------- 38.5/38.5 MB 5.2 MB/s eta 0:00:00\n",
      "Installing collected packages: opencv-python-headless\n",
      "Successfully installed opencv-python-headless-4.9.0.80\n",
      "Note: you may need to restart the kernel to use updated packages.\n"
     ]
    }
   ],
   "source": [
    "pip install opencv-python-headless\n"
   ]
  },
  {
   "cell_type": "code",
   "execution_count": null,
   "metadata": {},
   "outputs": [
    {
     "ename": "",
     "evalue": "",
     "output_type": "error",
     "traceback": [
      "\u001b[1;31mFailed to start the Kernel. \n",
      "\u001b[1;31mUnable to start Kernel 'Python 3.11.4' due to a timeout waiting for the ports to get used. \n",
      "\u001b[1;31mView Jupyter <a href='command:jupyter.viewOutput'>log</a> for further details."
     ]
    }
   ],
   "source": [
    "import tensorflow as tf\n",
    "from tensorflow.keras.preprocessing.image import ImageDataGenerator\n",
    "from tensorflow.keras.layers import Dense, GlobalAveragePooling2D, Dropout, Input\n",
    "from tensorflow.keras.models import Model\n",
    "from tensorflow.keras.optimizers import Adam\n",
    "from tensorflow.keras.applications import EfficientNetB0  # We will use this as a feature extractor\n",
    "\n",
    "from vit_keras import vit\n"
   ]
  },
  {
   "cell_type": "code",
   "execution_count": null,
   "metadata": {},
   "outputs": [
    {
     "ename": "",
     "evalue": "",
     "output_type": "error",
     "traceback": [
      "\u001b[1;31mFailed to start the Kernel. \n",
      "\u001b[1;31mUnable to start Kernel 'Python 3.11.4' due to a timeout waiting for the ports to get used. \n",
      "\u001b[1;31mView Jupyter <a href='command:jupyter.viewOutput'>log</a> for further details."
     ]
    }
   ],
   "source": [
    "data_dir = 'M:\\projects\\Major_proj\\Fruits_Dataset\\Fruit-262'\n",
    "\n",
    "# Image Data Generator for preprocessing\n",
    "datagen = ImageDataGenerator(\n",
    "    rescale=1./255,\n",
    "    validation_split=0.2  # Use 20% of data for validation\n",
    ")\n",
    "\n",
    "train_generator = datagen.flow_from_directory(\n",
    "    data_dir,\n",
    "    target_size=(224, 224),  # Resize images to 224x224\n",
    "    batch_size=32,\n",
    "    class_mode='categorical',\n",
    "    subset='training'\n",
    ")\n",
    "\n",
    "validation_generator = datagen.flow_from_directory(\n",
    "    data_dir,\n",
    "    target_size=(224, 224),  # Resize images to 224x224\n",
    "    batch_size=32,\n",
    "    class_mode='categorical',\n",
    "    subset='validation'\n",
    ")\n"
   ]
  },
  {
   "cell_type": "code",
   "execution_count": null,
   "metadata": {},
   "outputs": [
    {
     "ename": "",
     "evalue": "",
     "output_type": "error",
     "traceback": [
      "\u001b[1;31mFailed to start the Kernel. \n",
      "\u001b[1;31mUnable to start Kernel 'Python 3.11.4' due to a timeout waiting for the ports to get used. \n",
      "\u001b[1;31mView Jupyter <a href='command:jupyter.viewOutput'>log</a> for further details."
     ]
    }
   ],
   "source": [
    "# Load the ViT model\n",
    "vit_model = vit.vit_b16(\n",
    "    image_size=224,\n",
    "    pretrained=True,\n",
    "    include_top=False,\n",
    "    pretrained_top=False\n",
    ")\n",
    "\n",
    "# Freeze the base model\n",
    "vit_model.trainable = False\n",
    "\n",
    "# Add custom layers on top\n",
    "inputs = Input(shape=(224, 224, 3))\n",
    "x = vit_model(inputs)\n",
    "x = GlobalAveragePooling2D()(x)\n",
    "x = Dense(512, activation='relu')(x)\n",
    "x = Dropout(0.5)(x)\n",
    "outputs = Dense(train_generator.num_classes, activation='softmax')(x)\n",
    "\n",
    "# Create the final model\n",
    "model = Model(inputs=inputs, outputs=outputs)\n",
    "\n",
    "# Compile the model\n",
    "model.compile(optimizer=Adam(lr=0.0001), loss='categorical_crossentropy', metrics=['accuracy'])\n"
   ]
  },
  {
   "cell_type": "code",
   "execution_count": null,
   "metadata": {},
   "outputs": [
    {
     "ename": "",
     "evalue": "",
     "output_type": "error",
     "traceback": [
      "\u001b[1;31mFailed to start the Kernel. \n",
      "\u001b[1;31mUnable to start Kernel 'Python 3.11.4' due to a timeout waiting for the ports to get used. \n",
      "\u001b[1;31mView Jupyter <a href='command:jupyter.viewOutput'>log</a> for further details."
     ]
    }
   ],
   "source": [
    "# Train the model\n",
    "history = model.fit(\n",
    "    train_generator,\n",
    "    steps_per_epoch=train_generator.samples // train_generator.batch_size,\n",
    "    validation_data=validation_generator,\n",
    "    validation_steps=validation_generator.samples // validation_generator.batch_size,\n",
    "    epochs=5\n",
    ")\n"
   ]
  },
  {
   "cell_type": "code",
   "execution_count": null,
   "metadata": {},
   "outputs": [
    {
     "ename": "",
     "evalue": "",
     "output_type": "error",
     "traceback": [
      "\u001b[1;31mFailed to start the Kernel. \n",
      "\u001b[1;31mUnable to start Kernel 'Python 3.11.4' due to a timeout waiting for the ports to get used. \n",
      "\u001b[1;31mView Jupyter <a href='command:jupyter.viewOutput'>log</a> for further details."
     ]
    }
   ],
   "source": [
    "# Evaluate the model\n",
    "loss, accuracy = model.evaluate(validation_generator, steps=validation_generator.samples // validation_generator.batch_size)\n",
    "print(f'Validation Accuracy: {accuracy * 100:.2f}%')\n"
   ]
  },
  {
   "cell_type": "code",
   "execution_count": null,
   "metadata": {},
   "outputs": [
    {
     "ename": "",
     "evalue": "",
     "output_type": "error",
     "traceback": [
      "\u001b[1;31mFailed to start the Kernel. \n",
      "\u001b[1;31mUnable to start Kernel 'Python 3.11.4' due to a timeout waiting for the ports to get used. \n",
      "\u001b[1;31mView Jupyter <a href='command:jupyter.viewOutput'>log</a> for further details."
     ]
    }
   ],
   "source": [
    "model.save('fruit_classifier_vit.h5')\n"
   ]
  },
  {
   "cell_type": "code",
   "execution_count": null,
   "metadata": {},
   "outputs": [
    {
     "ename": "",
     "evalue": "",
     "output_type": "error",
     "traceback": [
      "\u001b[1;31mFailed to start the Kernel. \n",
      "\u001b[1;31mUnable to start Kernel 'Python 3.11.4' due to a timeout waiting for the ports to get used. \n",
      "\u001b[1;31mView Jupyter <a href='command:jupyter.viewOutput'>log</a> for further details."
     ]
    }
   ],
   "source": []
  },
  {
   "cell_type": "code",
   "execution_count": null,
   "metadata": {},
   "outputs": [
    {
     "ename": "",
     "evalue": "",
     "output_type": "error",
     "traceback": [
      "\u001b[1;31mFailed to start the Kernel. \n",
      "\u001b[1;31mUnable to start Kernel 'Python 3.11.4' due to a timeout waiting for the ports to get used. \n",
      "\u001b[1;31mView Jupyter <a href='command:jupyter.viewOutput'>log</a> for further details."
     ]
    }
   ],
   "source": []
  },
  {
   "cell_type": "code",
   "execution_count": null,
   "metadata": {},
   "outputs": [
    {
     "ename": "",
     "evalue": "",
     "output_type": "error",
     "traceback": [
      "\u001b[1;31mFailed to start the Kernel. \n",
      "\u001b[1;31mUnable to start Kernel 'Python 3.11.4' due to a timeout waiting for the ports to get used. \n",
      "\u001b[1;31mView Jupyter <a href='command:jupyter.viewOutput'>log</a> for further details."
     ]
    }
   ],
   "source": []
  },
  {
   "cell_type": "code",
   "execution_count": null,
   "metadata": {},
   "outputs": [
    {
     "ename": "",
     "evalue": "",
     "output_type": "error",
     "traceback": [
      "\u001b[1;31mFailed to start the Kernel. \n",
      "\u001b[1;31mUnable to start Kernel 'Python 3.11.4' due to a timeout waiting for the ports to get used. \n",
      "\u001b[1;31mView Jupyter <a href='command:jupyter.viewOutput'>log</a> for further details."
     ]
    }
   ],
   "source": []
  }
 ],
 "metadata": {
  "kernelspec": {
   "display_name": "Python 3",
   "language": "python",
   "name": "python3"
  },
  "language_info": {
   "codemirror_mode": {
    "name": "ipython",
    "version": 3
   },
   "file_extension": ".py",
   "mimetype": "text/x-python",
   "name": "python",
   "nbconvert_exporter": "python",
   "pygments_lexer": "ipython3",
   "version": "3.11.4"
  }
 },
 "nbformat": 4,
 "nbformat_minor": 2
}
